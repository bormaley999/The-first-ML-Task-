{
 "cells": [
  {
   "cell_type": "code",
   "execution_count": 2,
   "metadata": {},
   "outputs": [],
   "source": [
    "import numpy as np #библиотека для работы с векторами\n",
    "import pandas as pd #библиотека для работа с данными\\таблицами\n",
    "import matplotlib.pyplot as plt #библиотека для визуализации данных"
   ]
  },
  {
   "cell_type": "code",
   "execution_count": 3,
   "metadata": {},
   "outputs": [],
   "source": [
    "from datetime import datetime"
   ]
  },
  {
   "cell_type": "code",
   "execution_count": 4,
   "metadata": {},
   "outputs": [],
   "source": [
    "money = pd.read_csv(\"AU.csv\", sep=\";\")"
   ]
  },
  {
   "cell_type": "code",
   "execution_count": 11,
   "metadata": {},
   "outputs": [
    {
     "data": {
      "text/html": [
       "<div>\n",
       "<style scoped>\n",
       "    .dataframe tbody tr th:only-of-type {\n",
       "        vertical-align: middle;\n",
       "    }\n",
       "\n",
       "    .dataframe tbody tr th {\n",
       "        vertical-align: top;\n",
       "    }\n",
       "\n",
       "    .dataframe thead th {\n",
       "        text-align: right;\n",
       "    }\n",
       "</style>\n",
       "<table border=\"1\" class=\"dataframe\">\n",
       "  <thead>\n",
       "    <tr style=\"text-align: right;\">\n",
       "      <th></th>\n",
       "      <th>data</th>\n",
       "      <th>curs</th>\n",
       "    </tr>\n",
       "  </thead>\n",
       "  <tbody>\n",
       "    <tr>\n",
       "      <th>0</th>\n",
       "      <td>10/01/2018</td>\n",
       "      <td>44,6558</td>\n",
       "    </tr>\n",
       "    <tr>\n",
       "      <th>1</th>\n",
       "      <td>11/01/2018</td>\n",
       "      <td>44,5205</td>\n",
       "    </tr>\n",
       "    <tr>\n",
       "      <th>2</th>\n",
       "      <td>12/01/2018</td>\n",
       "      <td>44,8442</td>\n",
       "    </tr>\n",
       "    <tr>\n",
       "      <th>3</th>\n",
       "      <td>13/01/2018</td>\n",
       "      <td>44,5740</td>\n",
       "    </tr>\n",
       "    <tr>\n",
       "      <th>4</th>\n",
       "      <td>16/01/2018</td>\n",
       "      <td>44,7925</td>\n",
       "    </tr>\n",
       "  </tbody>\n",
       "</table>\n",
       "</div>"
      ],
      "text/plain": [
       "         data     curs\n",
       "0  10/01/2018  44,6558\n",
       "1  11/01/2018  44,5205\n",
       "2  12/01/2018  44,8442\n",
       "3  13/01/2018  44,5740\n",
       "4  16/01/2018  44,7925"
      ]
     },
     "execution_count": 11,
     "metadata": {},
     "output_type": "execute_result"
    }
   ],
   "source": [
    "money.head(5)"
   ]
  },
  {
   "cell_type": "code",
   "execution_count": 12,
   "metadata": {},
   "outputs": [],
   "source": [
    "target_columns = [\"data\", \"curs\"]"
   ]
  },
  {
   "cell_type": "code",
   "execution_count": 13,
   "metadata": {},
   "outputs": [
    {
     "name": "stdout",
     "output_type": "stream",
     "text": [
      "['data', 'curs']\n",
      "data\n"
     ]
    }
   ],
   "source": [
    "print (target_columns)\n",
    "print (target_columns[0])"
   ]
  },
  {
   "cell_type": "code",
   "execution_count": 14,
   "metadata": {},
   "outputs": [],
   "source": [
    "money = money [target_columns]"
   ]
  },
  {
   "cell_type": "code",
   "execution_count": 15,
   "metadata": {},
   "outputs": [
    {
     "data": {
      "text/html": [
       "<div>\n",
       "<style scoped>\n",
       "    .dataframe tbody tr th:only-of-type {\n",
       "        vertical-align: middle;\n",
       "    }\n",
       "\n",
       "    .dataframe tbody tr th {\n",
       "        vertical-align: top;\n",
       "    }\n",
       "\n",
       "    .dataframe thead th {\n",
       "        text-align: right;\n",
       "    }\n",
       "</style>\n",
       "<table border=\"1\" class=\"dataframe\">\n",
       "  <thead>\n",
       "    <tr style=\"text-align: right;\">\n",
       "      <th></th>\n",
       "      <th>data</th>\n",
       "      <th>curs</th>\n",
       "    </tr>\n",
       "  </thead>\n",
       "  <tbody>\n",
       "    <tr>\n",
       "      <th>0</th>\n",
       "      <td>10/01/2018</td>\n",
       "      <td>44,6558</td>\n",
       "    </tr>\n",
       "    <tr>\n",
       "      <th>1</th>\n",
       "      <td>11/01/2018</td>\n",
       "      <td>44,5205</td>\n",
       "    </tr>\n",
       "    <tr>\n",
       "      <th>2</th>\n",
       "      <td>12/01/2018</td>\n",
       "      <td>44,8442</td>\n",
       "    </tr>\n",
       "    <tr>\n",
       "      <th>3</th>\n",
       "      <td>13/01/2018</td>\n",
       "      <td>44,5740</td>\n",
       "    </tr>\n",
       "    <tr>\n",
       "      <th>4</th>\n",
       "      <td>16/01/2018</td>\n",
       "      <td>44,7925</td>\n",
       "    </tr>\n",
       "  </tbody>\n",
       "</table>\n",
       "</div>"
      ],
      "text/plain": [
       "         data     curs\n",
       "0  10/01/2018  44,6558\n",
       "1  11/01/2018  44,5205\n",
       "2  12/01/2018  44,8442\n",
       "3  13/01/2018  44,5740\n",
       "4  16/01/2018  44,7925"
      ]
     },
     "execution_count": 15,
     "metadata": {},
     "output_type": "execute_result"
    }
   ],
   "source": [
    "money.head(5)"
   ]
  },
  {
   "cell_type": "code",
   "execution_count": 16,
   "metadata": {},
   "outputs": [],
   "source": [
    "real_columns = [\"date\", \"value\"]"
   ]
  },
  {
   "cell_type": "code",
   "execution_count": 17,
   "metadata": {},
   "outputs": [],
   "source": [
    "money.columns = real_columns"
   ]
  },
  {
   "cell_type": "code",
   "execution_count": 18,
   "metadata": {},
   "outputs": [
    {
     "data": {
      "text/html": [
       "<div>\n",
       "<style scoped>\n",
       "    .dataframe tbody tr th:only-of-type {\n",
       "        vertical-align: middle;\n",
       "    }\n",
       "\n",
       "    .dataframe tbody tr th {\n",
       "        vertical-align: top;\n",
       "    }\n",
       "\n",
       "    .dataframe thead th {\n",
       "        text-align: right;\n",
       "    }\n",
       "</style>\n",
       "<table border=\"1\" class=\"dataframe\">\n",
       "  <thead>\n",
       "    <tr style=\"text-align: right;\">\n",
       "      <th></th>\n",
       "      <th>date</th>\n",
       "      <th>value</th>\n",
       "    </tr>\n",
       "  </thead>\n",
       "  <tbody>\n",
       "    <tr>\n",
       "      <th>0</th>\n",
       "      <td>10/01/2018</td>\n",
       "      <td>44,6558</td>\n",
       "    </tr>\n",
       "    <tr>\n",
       "      <th>1</th>\n",
       "      <td>11/01/2018</td>\n",
       "      <td>44,5205</td>\n",
       "    </tr>\n",
       "    <tr>\n",
       "      <th>2</th>\n",
       "      <td>12/01/2018</td>\n",
       "      <td>44,8442</td>\n",
       "    </tr>\n",
       "    <tr>\n",
       "      <th>3</th>\n",
       "      <td>13/01/2018</td>\n",
       "      <td>44,5740</td>\n",
       "    </tr>\n",
       "    <tr>\n",
       "      <th>4</th>\n",
       "      <td>16/01/2018</td>\n",
       "      <td>44,7925</td>\n",
       "    </tr>\n",
       "  </tbody>\n",
       "</table>\n",
       "</div>"
      ],
      "text/plain": [
       "         date    value\n",
       "0  10/01/2018  44,6558\n",
       "1  11/01/2018  44,5205\n",
       "2  12/01/2018  44,8442\n",
       "3  13/01/2018  44,5740\n",
       "4  16/01/2018  44,7925"
      ]
     },
     "execution_count": 18,
     "metadata": {},
     "output_type": "execute_result"
    }
   ],
   "source": [
    "money.head(5)"
   ]
  },
  {
   "cell_type": "code",
   "execution_count": 19,
   "metadata": {},
   "outputs": [
    {
     "name": "stdout",
     "output_type": "stream",
     "text": [
      "<class 'pandas.core.frame.DataFrame'>\n",
      "RangeIndex: 359 entries, 0 to 358\n",
      "Data columns (total 2 columns):\n",
      "date     359 non-null object\n",
      "value    359 non-null object\n",
      "dtypes: object(2)\n",
      "memory usage: 5.7+ KB\n"
     ]
    }
   ],
   "source": [
    "money.info()"
   ]
  },
  {
   "cell_type": "code",
   "execution_count": 20,
   "metadata": {},
   "outputs": [],
   "source": [
    "def convert_money(string):\n",
    "    return float(string.replace(\",\", \".\"))"
   ]
  },
  {
   "cell_type": "code",
   "execution_count": 21,
   "metadata": {},
   "outputs": [
    {
     "data": {
      "text/plain": [
       "123.123"
      ]
     },
     "execution_count": 21,
     "metadata": {},
     "output_type": "execute_result"
    }
   ],
   "source": [
    "convert_money(\"123,123\")"
   ]
  },
  {
   "cell_type": "code",
   "execution_count": 22,
   "metadata": {},
   "outputs": [],
   "source": [
    "def convert_date(string):\n",
    "    return datetime.strptime(string, \"%d/%m/%Y\")"
   ]
  },
  {
   "cell_type": "code",
   "execution_count": 23,
   "metadata": {},
   "outputs": [
    {
     "data": {
      "text/plain": [
       "(datetime.datetime(2019, 9, 21, 0, 0), datetime.datetime)"
      ]
     },
     "execution_count": 23,
     "metadata": {},
     "output_type": "execute_result"
    }
   ],
   "source": [
    "convert_date(\"21/09/2019\"), type (convert_date(\"21/09/2019\"))"
   ]
  },
  {
   "cell_type": "code",
   "execution_count": 24,
   "metadata": {},
   "outputs": [],
   "source": [
    "money[\"date\"] = money[\"date\"].apply(convert_date)\n",
    "money[\"value\"] = money[\"value\"].apply(convert_money)"
   ]
  },
  {
   "cell_type": "code",
   "execution_count": 25,
   "metadata": {},
   "outputs": [
    {
     "data": {
      "text/html": [
       "<div>\n",
       "<style scoped>\n",
       "    .dataframe tbody tr th:only-of-type {\n",
       "        vertical-align: middle;\n",
       "    }\n",
       "\n",
       "    .dataframe tbody tr th {\n",
       "        vertical-align: top;\n",
       "    }\n",
       "\n",
       "    .dataframe thead th {\n",
       "        text-align: right;\n",
       "    }\n",
       "</style>\n",
       "<table border=\"1\" class=\"dataframe\">\n",
       "  <thead>\n",
       "    <tr style=\"text-align: right;\">\n",
       "      <th></th>\n",
       "      <th>date</th>\n",
       "      <th>value</th>\n",
       "    </tr>\n",
       "  </thead>\n",
       "  <tbody>\n",
       "    <tr>\n",
       "      <th>0</th>\n",
       "      <td>2018-01-10</td>\n",
       "      <td>44.6558</td>\n",
       "    </tr>\n",
       "    <tr>\n",
       "      <th>1</th>\n",
       "      <td>2018-01-11</td>\n",
       "      <td>44.5205</td>\n",
       "    </tr>\n",
       "    <tr>\n",
       "      <th>2</th>\n",
       "      <td>2018-01-12</td>\n",
       "      <td>44.8442</td>\n",
       "    </tr>\n",
       "    <tr>\n",
       "      <th>3</th>\n",
       "      <td>2018-01-13</td>\n",
       "      <td>44.5740</td>\n",
       "    </tr>\n",
       "    <tr>\n",
       "      <th>4</th>\n",
       "      <td>2018-01-16</td>\n",
       "      <td>44.7925</td>\n",
       "    </tr>\n",
       "  </tbody>\n",
       "</table>\n",
       "</div>"
      ],
      "text/plain": [
       "        date    value\n",
       "0 2018-01-10  44.6558\n",
       "1 2018-01-11  44.5205\n",
       "2 2018-01-12  44.8442\n",
       "3 2018-01-13  44.5740\n",
       "4 2018-01-16  44.7925"
      ]
     },
     "execution_count": 25,
     "metadata": {},
     "output_type": "execute_result"
    }
   ],
   "source": [
    "money.head(5)"
   ]
  },
  {
   "cell_type": "code",
   "execution_count": 26,
   "metadata": {},
   "outputs": [
    {
     "name": "stdout",
     "output_type": "stream",
     "text": [
      "<class 'pandas.core.frame.DataFrame'>\n",
      "RangeIndex: 359 entries, 0 to 358\n",
      "Data columns (total 2 columns):\n",
      "date     359 non-null datetime64[ns]\n",
      "value    359 non-null float64\n",
      "dtypes: datetime64[ns](1), float64(1)\n",
      "memory usage: 5.7 KB\n"
     ]
    }
   ],
   "source": [
    "money.info()"
   ]
  },
  {
   "cell_type": "code",
   "execution_count": 27,
   "metadata": {},
   "outputs": [
    {
     "data": {
      "text/plain": [
       "[<matplotlib.lines.Line2D at 0x111cf7ef0>]"
      ]
     },
     "execution_count": 27,
     "metadata": {},
     "output_type": "execute_result"
    },
    {
     "data": {
      "image/png": "[encoded data removed]",
      "text/plain": [
       "<Figure size 432x288 with 1 Axes>"
      ]
     },
     "metadata": {
      "needs_background": "light"
     },
     "output_type": "display_data"
    }
   ],
   "source": [
    "plt.plot (money[\"value\"])"
   ]
  },
  {
   "cell_type": "code",
   "execution_count": null,
   "metadata": {},
   "outputs": [],
   "source": []
  },
  {
   "cell_type": "code",
   "execution_count": null,
   "metadata": {},
   "outputs": [],
   "source": []
  },
  {
   "cell_type": "code",
   "execution_count": 34,
   "metadata": {},
   "outputs": [],
   "source": [
    "#f(t) = a + b * t -> линейная модель \n",
    "#f(t) = a + b * t + c * t ^ 2 -> квадратичная"
   ]
  },
  {
   "cell_type": "code",
   "execution_count": 28,
   "metadata": {},
   "outputs": [],
   "source": [
    "from sklearn.linear_model import LinearRegression"
   ]
  },
  {
   "cell_type": "code",
   "execution_count": null,
   "metadata": {},
   "outputs": [],
   "source": []
  },
  {
   "cell_type": "code",
   "execution_count": 29,
   "metadata": {},
   "outputs": [],
   "source": [
    "money[\"id\"] = range(len(money))"
   ]
  },
  {
   "cell_type": "code",
   "execution_count": 30,
   "metadata": {},
   "outputs": [
    {
     "data": {
      "text/html": [
       "<div>\n",
       "<style scoped>\n",
       "    .dataframe tbody tr th:only-of-type {\n",
       "        vertical-align: middle;\n",
       "    }\n",
       "\n",
       "    .dataframe tbody tr th {\n",
       "        vertical-align: top;\n",
       "    }\n",
       "\n",
       "    .dataframe thead th {\n",
       "        text-align: right;\n",
       "    }\n",
       "</style>\n",
       "<table border=\"1\" class=\"dataframe\">\n",
       "  <thead>\n",
       "    <tr style=\"text-align: right;\">\n",
       "      <th></th>\n",
       "      <th>date</th>\n",
       "      <th>value</th>\n",
       "      <th>id</th>\n",
       "    </tr>\n",
       "  </thead>\n",
       "  <tbody>\n",
       "    <tr>\n",
       "      <th>0</th>\n",
       "      <td>2018-01-10</td>\n",
       "      <td>44.6558</td>\n",
       "      <td>0</td>\n",
       "    </tr>\n",
       "    <tr>\n",
       "      <th>1</th>\n",
       "      <td>2018-01-11</td>\n",
       "      <td>44.5205</td>\n",
       "      <td>1</td>\n",
       "    </tr>\n",
       "    <tr>\n",
       "      <th>2</th>\n",
       "      <td>2018-01-12</td>\n",
       "      <td>44.8442</td>\n",
       "      <td>2</td>\n",
       "    </tr>\n",
       "    <tr>\n",
       "      <th>3</th>\n",
       "      <td>2018-01-13</td>\n",
       "      <td>44.5740</td>\n",
       "      <td>3</td>\n",
       "    </tr>\n",
       "    <tr>\n",
       "      <th>4</th>\n",
       "      <td>2018-01-16</td>\n",
       "      <td>44.7925</td>\n",
       "      <td>4</td>\n",
       "    </tr>\n",
       "  </tbody>\n",
       "</table>\n",
       "</div>"
      ],
      "text/plain": [
       "        date    value  id\n",
       "0 2018-01-10  44.6558   0\n",
       "1 2018-01-11  44.5205   1\n",
       "2 2018-01-12  44.8442   2\n",
       "3 2018-01-13  44.5740   3\n",
       "4 2018-01-16  44.7925   4"
      ]
     },
     "execution_count": 30,
     "metadata": {},
     "output_type": "execute_result"
    }
   ],
   "source": [
    "money.head(5)"
   ]
  },
  {
   "cell_type": "code",
   "execution_count": 31,
   "metadata": {},
   "outputs": [
    {
     "data": {
      "text/plain": [
       "359"
      ]
     },
     "execution_count": 31,
     "metadata": {},
     "output_type": "execute_result"
    }
   ],
   "source": [
    "len(money)"
   ]
  },
  {
   "cell_type": "code",
   "execution_count": 32,
   "metadata": {},
   "outputs": [],
   "source": [
    "end = 150"
   ]
  },
  {
   "cell_type": "code",
   "execution_count": 33,
   "metadata": {},
   "outputs": [],
   "source": [
    "X = money [[\"id\"]][:end] # <start>:<end> начиная со <start> до <end> не включая <end>\n",
    "y = money[\"value\"][:end]"
   ]
  },
  {
   "cell_type": "code",
   "execution_count": 41,
   "metadata": {},
   "outputs": [],
   "source": [
    "#X = money [[\"id\"]][end:]\n",
    "#y = money[\"value\"][end:]"
   ]
  },
  {
   "cell_type": "code",
   "execution_count": null,
   "metadata": {},
   "outputs": [],
   "source": []
  },
  {
   "cell_type": "code",
   "execution_count": 34,
   "metadata": {},
   "outputs": [],
   "source": [
    "reg = LinearRegression().fit(X, y)"
   ]
  },
  {
   "cell_type": "code",
   "execution_count": 35,
   "metadata": {},
   "outputs": [],
   "source": [
    "y_pred = reg.predict(X)"
   ]
  },
  {
   "cell_type": "code",
   "execution_count": 36,
   "metadata": {},
   "outputs": [
    {
     "data": {
      "text/plain": [
       "LinearRegression(copy_X=True, fit_intercept=True, n_jobs=None,\n",
       "         normalize=False)"
      ]
     },
     "execution_count": 36,
     "metadata": {},
     "output_type": "execute_result"
    }
   ],
   "source": [
    "reg"
   ]
  },
  {
   "cell_type": "code",
   "execution_count": 39,
   "metadata": {},
   "outputs": [
    {
     "data": {
      "text/plain": [
       "<matplotlib.legend.Legend at 0x1a25eac3c8>"
      ]
     },
     "execution_count": 39,
     "metadata": {},
     "output_type": "execute_result"
    },
    {
     "data": {
      "image/png": "[encoded data removed]",
      "text/plain": [
       "<Figure size 432x288 with 1 Axes>"
      ]
     },
     "metadata": {
      "needs_background": "light"
     },
     "output_type": "display_data"
    }
   ],
   "source": [
    "plt.plot(money[\"value\"], label = \"real\")\n",
    "plt.plot(reg.predict(money[[\"id\"]]), label = \"linear model\")\n",
    "plt.plot(list(y) + list (y_pred), label = \"prediction\")\n",
    "plt.legend()"
   ]
  },
  {
   "cell_type": "code",
   "execution_count": null,
   "metadata": {},
   "outputs": [],
   "source": []
  },
  {
   "cell_type": "code",
   "execution_count": null,
   "metadata": {},
   "outputs": [],
   "source": []
  },
  {
   "cell_type": "code",
   "execution_count": 47,
   "metadata": {},
   "outputs": [
    {
     "data": {
      "text/plain": [
       "[48.638,\n",
       " 48.7123,\n",
       " 49.1225,\n",
       " 49.4298,\n",
       " 49.6168,\n",
       " 49.9691,\n",
       " 49.3451,\n",
       " 49.3004,\n",
       " 49.5055,\n",
       " 49.8209,\n",
       " 49.5638,\n",
       " 49.3256,\n",
       " 48.8436,\n",
       " 48.9249,\n",
       " 49.0536,\n",
       " 49.0789,\n",
       " 49.4038,\n",
       " 49.6905,\n",
       " 49.8358,\n",
       " 49.5567,\n",
       " 49.2951,\n",
       " 49.2181,\n",
       " 48.8964,\n",
       " 48.8288,\n",
       " 48.5754,\n",
       " 48.3122,\n",
       " 48.3623,\n",
       " 48.1376,\n",
       " 47.67,\n",
       " 47.7341,\n",
       " 47.6122,\n",
       " 47.3499,\n",
       " 47.3186,\n",
       " 46.8425,\n",
       " 46.8504,\n",
       " 46.838,\n",
       " 47.052,\n",
       " 47.186,\n",
       " 46.9537,\n",
       " 47.0099,\n",
       " 47.3352,\n",
       " 46.9677,\n",
       " 46.8672,\n",
       " 46.7101,\n",
       " 46.7759,\n",
       " 46.8479,\n",
       " 46.7872,\n",
       " 46.4003,\n",
       " 46.2526,\n",
       " 46.4791,\n",
       " 46.4704,\n",
       " 46.1345,\n",
       " 46.7206,\n",
       " 46.6668,\n",
       " 46.4749,\n",
       " 46.9607,\n",
       " 47.4798,\n",
       " 47.6786,\n",
       " 48.0025,\n",
       " 48.2777,\n",
       " 48.4192,\n",
       " 48.5699,\n",
       " 48.8049,\n",
       " 48.9786,\n",
       " 48.5896,\n",
       " 48.043,\n",
       " 48.3245,\n",
       " 47.872,\n",
       " 47.7533,\n",
       " 47.4993,\n",
       " 47.595,\n",
       " 48.3308,\n",
       " 48.2953,\n",
       " 48.3935,\n",
       " 48.8495,\n",
       " 48.6426,\n",
       " 48.9501,\n",
       " 49.0244,\n",
       " 48.7416,\n",
       " 48.2247,\n",
       " 48.3182,\n",
       " 47.8066,\n",
       " 47.8816,\n",
       " 47.8707,\n",
       " 47.962,\n",
       " 47.6462,\n",
       " 47.7938,\n",
       " 48.05,\n",
       " 48.3207,\n",
       " 47.9143,\n",
       " 48.3404,\n",
       " 48.3434,\n",
       " 48.4926,\n",
       " 48.6063,\n",
       " 48.5853,\n",
       " 49.0198,\n",
       " 48.9351,\n",
       " 48.0021,\n",
       " 48.0192,\n",
       " 48.2603,\n",
       " 48.3446,\n",
       " 48.3997,\n",
       " 48.1218,\n",
       " 47.5472,\n",
       " 47.6787,\n",
       " 47.5693,\n",
       " 47.4168,\n",
       " 47.3211,\n",
       " 46.8215,\n",
       " 46.8538,\n",
       " 47.3443,\n",
       " 47.5666,\n",
       " 47.5778,\n",
       " 47.5608,\n",
       " 47.5839,\n",
       " 47.412,\n",
       " 47.5179,\n",
       " 46.8414,\n",
       " 46.8609,\n",
       " 46.8385,\n",
       " 46.5668,\n",
       " 46.5129,\n",
       " 46.7498,\n",
       " 47.3253,\n",
       " 47.2801,\n",
       " 47.3467,\n",
       " 47.1492,\n",
       " 47.1732,\n",
       " 46.6187,\n",
       " 46.5942,\n",
       " 46.7053,\n",
       " 46.9564,\n",
       " 47.1806,\n",
       " 47.0649,\n",
       " 46.6691,\n",
       " 46.6096,\n",
       " 46.5801,\n",
       " 46.3074,\n",
       " 46.4457,\n",
       " 46.5838,\n",
       " 46.5173,\n",
       " 46.319,\n",
       " 46.2066,\n",
       " 46.3763,\n",
       " 46.0187,\n",
       " 45.6456,\n",
       " 45.5619,\n",
       " 45.5309,\n",
       " 45.3089,\n",
       " 45.7365,\n",
       " 45.7456,\n",
       " 45.8219,\n",
       " 45.9376,\n",
       " 45.8969,\n",
       " 46.6427,\n",
       " 46.3284,\n",
       " 46.3771,\n",
       " 46.4679,\n",
       " 46.5895,\n",
       " 46.4245,\n",
       " 46.3023,\n",
       " 46.2742,\n",
       " 46.0776,\n",
       " 46.0781,\n",
       " 46.0715,\n",
       " 45.8946,\n",
       " 46.0724,\n",
       " 45.8861,\n",
       " 45.7635,\n",
       " 45.5241,\n",
       " 45.3806,\n",
       " 45.0674,\n",
       " 45.295,\n",
       " 45.5072,\n",
       " 45.6141,\n",
       " 45.5781,\n",
       " 45.6888,\n",
       " 45.8016,\n",
       " 45.7971,\n",
       " 45.659,\n",
       " 45.3509,\n",
       " 44.9014,\n",
       " 44.727,\n",
       " 44.4673,\n",
       " 44.7101,\n",
       " 44.3629,\n",
       " 44.3823,\n",
       " 44.2991,\n",
       " 44.5942,\n",
       " 44.6282,\n",
       " 44.6419,\n",
       " 44.8971,\n",
       " 45.1049,\n",
       " 45.2649,\n",
       " 45.5409,\n",
       " 45.5022,\n",
       " 45.587,\n",
       " 45.5333,\n",
       " 45.3455,\n",
       " 45.147,\n",
       " 44.8707,\n",
       " 44.6668,\n",
       " 44.4327,\n",
       " 44.2062,\n",
       " 43.9924,\n",
       " 43.9538,\n",
       " 43.8706,\n",
       " 43.673,\n",
       " 43.7221,\n",
       " 49.155847354750506,\n",
       " 49.13552764104316,\n",
       " 49.11520792733582,\n",
       " 49.09488821362847,\n",
       " 49.07456849992113,\n",
       " 49.05424878621378,\n",
       " 49.03392907250644,\n",
       " 49.013609358799094,\n",
       " 48.99328964509175,\n",
       " 48.9729699313844,\n",
       " 48.95265021767705,\n",
       " 48.93233050396971,\n",
       " 48.912010790262364,\n",
       " 48.89169107655502,\n",
       " 48.871371362847675,\n",
       " 48.85105164914033,\n",
       " 48.830731935432986,\n",
       " 48.81041222172564,\n",
       " 48.79009250801829,\n",
       " 48.769772794310946,\n",
       " 48.7494530806036,\n",
       " 48.72913336689626,\n",
       " 48.70881365318891,\n",
       " 48.68849393948157,\n",
       " 48.66817422577422,\n",
       " 48.64785451206688,\n",
       " 48.627534798359534,\n",
       " 48.60721508465218,\n",
       " 48.58689537094484,\n",
       " 48.56657565723749,\n",
       " 48.54625594353015,\n",
       " 48.525936229822804,\n",
       " 48.50561651611546,\n",
       " 48.485296802408115,\n",
       " 48.46497708870077,\n",
       " 48.444657374993426,\n",
       " 48.42433766128608,\n",
       " 48.40401794757873,\n",
       " 48.383698233871385,\n",
       " 48.36337852016404,\n",
       " 48.343058806456696,\n",
       " 48.32273909274935,\n",
       " 48.30241937904201,\n",
       " 48.28209966533466,\n",
       " 48.26177995162732,\n",
       " 48.24146023791997,\n",
       " 48.22114052421263,\n",
       " 48.20082081050528,\n",
       " 48.18050109679793,\n",
       " 48.16018138309059,\n",
       " 48.139861669383244,\n",
       " 48.1195419556759,\n",
       " 48.099222241968555,\n",
       " 48.07890252826121,\n",
       " 48.058582814553866,\n",
       " 48.03826310084652,\n",
       " 48.01794338713917,\n",
       " 47.997623673431825,\n",
       " 47.97730395972448,\n",
       " 47.956984246017136,\n",
       " 47.93666453230979,\n",
       " 47.91634481860245,\n",
       " 47.8960251048951,\n",
       " 47.87570539118776,\n",
       " 47.85538567748041,\n",
       " 47.83506596377306,\n",
       " 47.81474625006572,\n",
       " 47.79442653635837,\n",
       " 47.77410682265103,\n",
       " 47.75378710894368,\n",
       " 47.73346739523634,\n",
       " 47.713147681528994,\n",
       " 47.69282796782165,\n",
       " 47.672508254114305,\n",
       " 47.65218854040696,\n",
       " 47.631868826699616,\n",
       " 47.611549112992265,\n",
       " 47.59122939928492,\n",
       " 47.570909685577575,\n",
       " 47.55058997187023,\n",
       " 47.530270258162886,\n",
       " 47.50995054445554,\n",
       " 47.4896308307482,\n",
       " 47.46931111704085,\n",
       " 47.44899140333351,\n",
       " 47.42867168962616,\n",
       " 47.40835197591881,\n",
       " 47.38803226221147,\n",
       " 47.36771254850412,\n",
       " 47.34739283479678,\n",
       " 47.327073121089434,\n",
       " 47.30675340738209,\n",
       " 47.286433693674745,\n",
       " 47.2661139799674,\n",
       " 47.24579426626005,\n",
       " 47.225474552552704,\n",
       " 47.20515483884536,\n",
       " 47.184835125138015,\n",
       " 47.16451541143067,\n",
       " 47.144195697723326,\n",
       " 47.12387598401598,\n",
       " 47.10355627030864,\n",
       " 47.08323655660129,\n",
       " 47.06291684289395,\n",
       " 47.0425971291866,\n",
       " 47.02227741547925,\n",
       " 47.00195770177191,\n",
       " 46.98163798806456,\n",
       " 46.96131827435722,\n",
       " 46.940998560649874,\n",
       " 46.92067884694253,\n",
       " 46.900359133235185,\n",
       " 46.88003941952784,\n",
       " 46.859719705820496,\n",
       " 46.839399992113144,\n",
       " 46.8190802784058,\n",
       " 46.798760564698455,\n",
       " 46.77844085099111,\n",
       " 46.758121137283766,\n",
       " 46.73780142357642,\n",
       " 46.71748170986908,\n",
       " 46.69716199616173,\n",
       " 46.67684228245439,\n",
       " 46.656522568747036,\n",
       " 46.63620285503969,\n",
       " 46.61588314133235,\n",
       " 46.595563427625,\n",
       " 46.57524371391766,\n",
       " 46.55492400021031,\n",
       " 46.53460428650297,\n",
       " 46.514284572795624,\n",
       " 46.49396485908828,\n",
       " 46.47364514538093,\n",
       " 46.45332543167358,\n",
       " 46.43300571796624,\n",
       " 46.412686004258894,\n",
       " 46.39236629055155,\n",
       " 46.372046576844205,\n",
       " 46.35172686313686,\n",
       " 46.331407149429516,\n",
       " 46.31108743572217,\n",
       " 46.29076772201483,\n",
       " 46.27044800830748,\n",
       " 46.25012829460013,\n",
       " 46.22980858089279,\n",
       " 46.20948886718544,\n",
       " 46.1891691534781,\n",
       " 46.16884943977075,\n",
       " 46.14852972606341,\n",
       " 46.128210012356064,\n",
       " 46.10789029864872,\n",
       " 46.087570584941375,\n",
       " 46.06725087123402,\n",
       " 46.04693115752668,\n",
       " 46.026611443819334,\n",
       " 46.00629173011199,\n",
       " 45.985972016404645,\n",
       " 45.9656523026973,\n",
       " 45.945332588989956,\n",
       " 45.92501287528261,\n",
       " 45.90469316157527,\n",
       " 45.884373447867915,\n",
       " 45.86405373416057,\n",
       " 45.843734020453226,\n",
       " 45.82341430674588,\n",
       " 45.80309459303854,\n",
       " 45.78277487933119,\n",
       " 45.76245516562385,\n",
       " 45.7421354519165,\n",
       " 45.72181573820916,\n",
       " 45.70149602450181,\n",
       " 45.68117631079447,\n",
       " 45.66085659708712,\n",
       " 45.640536883379774,\n",
       " 45.62021716967243,\n",
       " 45.599897455965085,\n",
       " 45.57957774225774,\n",
       " 45.559258028550396,\n",
       " 45.53893831484305,\n",
       " 45.51861860113571,\n",
       " 45.49829888742836,\n",
       " 45.47797917372101,\n",
       " 45.457659460013666,\n",
       " 45.43733974630632,\n",
       " 45.41702003259898,\n",
       " 45.39670031889163,\n",
       " 45.37638060518429,\n",
       " 45.35606089147694,\n",
       " 45.3357411777696,\n",
       " 45.315421464062254,\n",
       " 45.2951017503549,\n",
       " 45.27478203664756,\n",
       " 45.25446232294021,\n",
       " 45.23414260923287,\n",
       " 45.213822895525524,\n",
       " 45.19350318181818,\n",
       " 45.173183468110835,\n",
       " 45.15286375440349,\n",
       " 45.132544040696146,\n",
       " 45.112224326988795,\n",
       " 45.09190461328145,\n",
       " 45.071584899574106,\n",
       " 45.05126518586676,\n",
       " 45.03094547215942,\n",
       " 45.01062575845207,\n",
       " 44.99030604474473,\n",
       " 44.96998633103738,\n",
       " 44.94966661733004,\n",
       " 44.929346903622694]"
      ]
     },
     "execution_count": 47,
     "metadata": {},
     "output_type": "execute_result"
    }
   ],
   "source": [
    "#list (y) + list (y_pred)"
   ]
  },
  {
   "cell_type": "code",
   "execution_count": null,
   "metadata": {},
   "outputs": [],
   "source": []
  }
 ],
 "metadata": {
  "kernelspec": {
   "display_name": "Python 3",
   "language": "python",
   "name": "python3"
  },
  "language_info": {
   "codemirror_mode": {
    "name": "ipython",
    "version": 3
   },
   "file_extension": ".py",
   "mimetype": "text/x-python",
   "name": "python",
   "nbconvert_exporter": "python",
   "pygments_lexer": "ipython3",
   "version": "3.7.3"
  }
 },
 "nbformat": 4,
 "nbformat_minor": 2
}
